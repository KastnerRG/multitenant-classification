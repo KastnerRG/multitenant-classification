{
 "cells": [
  {
   "cell_type": "code",
   "execution_count": 1,
   "id": "f0696ec2",
   "metadata": {},
   "outputs": [],
   "source": []
  },
  {
   "cell_type": "code",
   "execution_count": 2,
   "id": "9d46ccc7",
   "metadata": {},
   "outputs": [],
   "source": [
    "from matplotlib import pyplot as plt\n",
    "import seaborn as sns\n",
    "import numpy as np"
   ]
  },
  {
   "cell_type": "code",
   "execution_count": 32,
   "id": "d71a17f8",
   "metadata": {},
   "outputs": [],
   "source": [
    "def combo_box_plot(combo_data, filename, dims, subplot):\n",
    "    \"\"\"\n",
    "    combo_data: a list of np arrays that contain the board inference data\n",
    "    filename: filename to save the box plot as\n",
    "    \"\"\"\n",
    "    dims = (4, 6) # (width, height)\n",
    "    _, ax = plt.subplots(figsize=dims)\n",
    "    ax = sns.boxplot(ax=ax, data=combo_data)\n",
    "    ax.set(xticklabels=['Train \\n & test on\\n same board', '1', '2', '3', '4'], xlabel='# Training boards', ylabel='Accuracy (%)')\n",
    "    ax.axvline(x=0.5, color='black')\n",
    "    plt.ylim([50, 102])\n",
    "    plt.tight_layout()\n",
    "    plt.savefig(f'{filename}.pdf')"
   ]
  },
  {
   "cell_type": "code",
   "execution_count": 27,
   "id": "89e58631",
   "metadata": {},
   "outputs": [],
   "source": [
    "\"\"\"\n",
    "OLD Variance testing on Neg edge max phi and max theta, neg edge only, 9 classes\n",
    "\"\"\"\n",
    "train_test_same = np.array([99.36,99.87,100,100,100])\n",
    "train1 = np.array([53.41,54.36,56.47,56.84,57.29,58.21,58.62,58.76,59.66,61.93,63.29,65.44,69.5,69.98,71.91,73.67,75.01,76.82,77.82,81.14])\n",
    "train2 = np.array([63.08,63.5,63.77,65.01,65.24,65.39,67.37,67.43,67.73,68.54,68.97,70.58,71.02,71.57,72.39,73.58,74.11,75.08,75.93,77.18,77.46,77.54,78.22,78.4,81,81.06,84.43,85.37,85.52,86.3])\n",
    "train3 = np.array([65.83,67.24,68.68,69.17,70.84,71.72,72.8,74.53,76.11,78.26,78.3,78.71,79.13,79.43,79.43,80.03,84.48,86.38,86.62,87.42])\n",
    "train4 = np.array([68.7,77.44,78.2,80.51,87.44])"
   ]
  },
  {
   "cell_type": "code",
   "execution_count": 28,
   "id": "9d5e9762",
   "metadata": {},
   "outputs": [
    {
     "data": {
      "image/png": "[encoded data removed]",
      "text/plain": [
       "<Figure size 288x432 with 1 Axes>"
      ]
     },
     "metadata": {
      "needs_background": "light"
     },
     "output_type": "display_data"
    }
   ],
   "source": [
    "acc_data = [train_test_same, train1, train2, train3, train4]\n",
    "combo_box_plot(acc_data, 'no-backsub-combo-box')"
   ]
  },
  {
   "cell_type": "code",
   "execution_count": 3,
   "id": "75a52793",
   "metadata": {},
   "outputs": [],
   "source": [
    "\"\"\"\n",
    "NEW variance testing on neg edge max phi and max theta, neg edge only, w/background sub, 13 classes\n",
    "Accuracy data\n",
    "\"\"\"\n",
    "bs_same = np.array([96.37,96.72,97.69,97.97,99.25])\n",
    "bs_train1 = np.array([62.15,62.61,63.93,65.88,66.43,66.49,67.26,67.64,67.67,68,68.2,69.42,69.81,69.97,71.55,73.22,73.46,75.05,76.21,77.92])\n",
    "bs_train2 = np.array([65.59,67.38,67.62,67.62,68.23,68.58,69,69.78,70.79,71.15,71.4,71.44,72.4,73.62,73.93,73.95,74.16,74.57,74.59,75.58,75.72,76.2,76.43,76.6,77.49,77.5,77.59,78.23,79.42,79.65])\n",
    "bs_train3 = np.array([68.32,68.45,68.85,69.05,71.96,72.32,73.5,74.05,74.45,75.13,75.93,76.34,76.82,77.34,77.48,77.49,77.62,78.98,79.28,79.41])\n",
    "bs_train4 = np.array([69.14,74.89,77.28,77.57,78.88])\n",
    "\"\"\"\n",
    "NEW variance testing on neg edge max phi and max theta, neg edge only, WITHOUT background sub, 13 classes\n",
    "Accuracy data\n",
    "\"\"\"\n",
    "nobs_same = np.array([99.7,99.89,99.91,99.98,100])\n",
    "nobs_train1 = np.array([57.15,58.42,63.92,64.22,64.3,67.33,67.92,68.27,69.52,69.53,69.61,70.05,70.12,70.28,70.3,70.55,71.69,71.71,75.61,76.82])\n",
    "nobs_train2 = np.array([60.9,63.36,64.17,66.92,67.55,69.02,69.75,70.6,71.02,71.44,71.49,71.96,72.25,73.46,73.5,73.65,73.68,74.7,74.78,74.91,75.62,75.92,76.5,76.57,76.82,77.65,78.2,78.52,79.83,80.7])\n",
    "nobs_train3 = np.array([65.8,66.42,67,70.06,71.64,72.39,73.25,73.91,75.22,75.55,75.84,76.23,77.07,77.59,78.53,78.82,79.36,79.98,80.03,80.28])\n",
    "nobs_train4 = np.array([68.06,73.58,76.73,79.69,80.88])"
   ]
  },
  {
   "cell_type": "code",
   "execution_count": 5,
   "id": "95710c5a",
   "metadata": {},
   "outputs": [
    {
     "data": {
      "image/png": "[encoded data removed]",
      "text/plain": [
       "<Figure size 252x360 with 2 Axes>"
      ]
     },
     "metadata": {
      "needs_background": "light"
     },
     "output_type": "display_data"
    }
   ],
   "source": [
    "backsub_data = [bs_same, bs_train1, bs_train2, bs_train3, bs_train4]\n",
    "no_backsub_data = [nobs_same, nobs_train1, nobs_train2, nobs_train3, nobs_train4]\n",
    "\n",
    "dims = (3.5, 5) # (width, height)\n",
    "fig, (ax1, ax2) = plt.subplots(1, 2, sharey=True, figsize=dims)\n",
    "ax1 = sns.boxplot(ax=ax1, data=no_backsub_data, palette='RdYlBu_r')\n",
    "ax1.set(xticklabels=['S', '1', '2', '3', '4'], xlabel='# Training boards', ylabel='Accuracy (%)')\n",
    "ax1.axvline(x=0.5, color='gray')\n",
    "ax1.set_title('No bg sub')\n",
    "plt.ylim([50, 102])\n",
    "plt.tight_layout()\n",
    "\n",
    "ax2 = sns.boxplot(ax=ax2, data=backsub_data, palette='RdYlBu_r')\n",
    "ax2.set(xticklabels=['S', '1', '2', '3', '4'], xlabel='# Training boards')\n",
    "ax2.axvline(x=0.5, color='gray')\n",
    "ax2.set_title('bg sub')\n",
    "plt.ylim([50, 102])\n",
    "plt.tight_layout()\n",
    "\n",
    "plt.savefig('combo-nobacksub-and-backsub-acc.pdf')"
   ]
  },
  {
   "cell_type": "code",
   "execution_count": 6,
   "id": "fd48f449",
   "metadata": {},
   "outputs": [],
   "source": [
    "\"\"\"\n",
    "NEW variance testing on neg edge max phi and max theta, neg edge only, w/background sub, 13 classes\n",
    "Loss data\n",
    "\"\"\"\n",
    "bs_same = np.array([0.051,0.096,0.118,0.132,0.169])\n",
    "bs_train1 = np.array([0.611,0.686,0.708,0.816,0.85,0.858,0.862,0.883,0.896,0.916,0.982,1.057,1.081,1.136,1.152,1.192,1.192,1.212,1.231,1.313])\n",
    "bs_train2 = np.array([0.576,0.591,0.605,0.631,0.631,0.644,0.656,0.657,0.683,0.687,0.698,0.741,0.743,0.747,0.756,0.756,0.785,0.819,0.836,0.86,0.879,0.903,1.038,1.059,1.114,1.122,1.133,1.16,1.169,1.173])\n",
    "bs_train3 = np.array([0.565,0.578,0.588,0.617,0.622,0.623,0.63,0.641,0.696,0.704,0.712,0.732,0.748,0.757,0.789,0.797,1.081,1.177,1.18,1.228])\n",
    "bs_train4 = np.array([0.556,0.614,0.642,0.688,1.166])\n",
    "\"\"\"\n",
    "NEW variance testing on neg edge max phi and max theta, neg edge only, WITHOUT background sub, 13 classes\n",
    "Loss data\n",
    "\"\"\"\n",
    "nobs_same = np.array([0.016,0.02,0.021,0.025,0.03])\n",
    "nobs_train1 = np.array([0.761,0.812,0.918,0.96,0.986,0.995,1.002,1.026,1.055,1.067,1.171,1.176,1.197,1.232,1.238,1.243,1.253,1.408,1.456,1.677])\n",
    "nobs_train2 = np.array([0.604,0.66,0.68,0.704,0.727,0.753,0.762,0.79,0.803,0.814,0.815,0.826,0.908,0.941,1.003,1.004,1.016,1.022,1.046,1.071,1.084,1.194,1.197,1.2,1.209,1.211,1.225,1.239,1.244,1.678])\n",
    "nobs_train3 = np.array([0.582,0.611,0.619,0.621,0.663,0.701,0.71,0.716,0.722,0.852,0.89,0.89,1.001,1.021,1.098,1.142,1.198,1.205,1.23,1.234])\n",
    "nobs_train4 = np.array([0.569,0.628,0.835,1.057,1.081])"
   ]
  },
  {
   "cell_type": "code",
   "execution_count": 14,
   "id": "49267616",
   "metadata": {},
   "outputs": [
    {
     "data": {
      "image/png": "[encoded data removed]",
      "text/plain": [
       "<Figure size 252x360 with 2 Axes>"
      ]
     },
     "metadata": {
      "needs_background": "light"
     },
     "output_type": "display_data"
    }
   ],
   "source": [
    "backsub_data = [bs_same, bs_train1, bs_train2, bs_train3, bs_train4]\n",
    "no_backsub_data = [nobs_same, nobs_train1, nobs_train2, nobs_train3, nobs_train4]\n",
    "\n",
    "dims = (3.5, 5) # (width, height)\n",
    "fig, (ax1, ax2) = plt.subplots(1, 2, sharey=True, figsize=dims)\n",
    "ax1 = sns.boxplot(ax=ax1, data=no_backsub_data, palette='gnuplot2')\n",
    "ax1.set(xticklabels=['S', '1', '2', '3', '4'], xlabel='# Training boards', ylabel='Loss')\n",
    "ax1.axvline(x=0.5, color='gray')\n",
    "ax1.set_title('No bg sub')\n",
    "plt.tight_layout()\n",
    "\n",
    "ax2 = sns.boxplot(ax=ax2, data=backsub_data, palette='gnuplot2')\n",
    "ax2.set(xticklabels=['S', '1', '2', '3', '4'], xlabel='# Training boards')\n",
    "ax2.axvline(x=0.5, color='gray')\n",
    "ax2.set_title('Bg sub')\n",
    "plt.tight_layout()\n",
    "\n",
    "plt.savefig('combo-nobacksub-and-backsub-loss.pdf')"
   ]
  },
  {
   "cell_type": "code",
   "execution_count": null,
   "id": "c0958c39",
   "metadata": {},
   "outputs": [],
   "source": []
  }
 ],
 "metadata": {
  "kernelspec": {
   "display_name": "Python 3 (ipykernel)",
   "language": "python",
   "name": "python3"
  },
  "language_info": {
   "codemirror_mode": {
    "name": "ipython",
    "version": 3
   },
   "file_extension": ".py",
   "mimetype": "text/x-python",
   "name": "python",
   "nbconvert_exporter": "python",
   "pygments_lexer": "ipython3",
   "version": "3.9.7"
  }
 },
 "nbformat": 4,
 "nbformat_minor": 5
}
